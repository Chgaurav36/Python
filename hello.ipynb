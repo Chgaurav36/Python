{
 "cells": [
  {
   "cell_type": "markdown",
   "id": "87f60fa0",
   "metadata": {},
   "source": [
    "Hello world"
   ]
  },
  {
   "cell_type": "code",
   "execution_count": 18,
   "id": "6e796059",
   "metadata": {},
   "outputs": [
    {
     "name": "stdout",
     "output_type": "stream",
     "text": [
      "Enter your name\n",
      "My name is gaurav\n"
     ]
    }
   ],
   "source": [
    "print(\"Enter your name\")\n",
    "name = input()\n",
    "print(f\"My name is {name}\")"
   ]
  },
  {
   "cell_type": "markdown",
   "id": "855446d9",
   "metadata": {},
   "source": [
    "Python Casting"
   ]
  },
  {
   "cell_type": "code",
   "execution_count": 20,
   "id": "ae280d85",
   "metadata": {},
   "outputs": [
    {
     "name": "stdout",
     "output_type": "stream",
     "text": [
      "22\n",
      "<class 'int'>\n"
     ]
    }
   ],
   "source": [
    "a = int(22.8)\n",
    "print(a)\n",
    "print(type(a))\n",
    "\n"
   ]
  },
  {
   "cell_type": "markdown",
   "id": "ec2c52a8",
   "metadata": {},
   "source": [
    "Python Strings\n"
   ]
  },
  {
   "cell_type": "code",
   "execution_count": 41,
   "id": "3add2c63",
   "metadata": {},
   "outputs": [
    {
     "name": "stdout",
     "output_type": "stream",
     "text": [
      "slice(None, 'rav, Chaura', None)\n",
      "Gaurav, chaurasia\n",
      "['Gaurav', ' Chaurasia']\n"
     ]
    }
   ],
   "source": [
    "b = \"Gaurav, Chaurasia\"\n",
    "print(slice(b[-14:-3]))\n",
    "print(b.replace(\"C\",\"c\"))\n",
    "print(b.split(\",\"))"
   ]
  },
  {
   "cell_type": "markdown",
   "id": "26dee2fe",
   "metadata": {},
   "source": [
    "Format Strings"
   ]
  },
  {
   "cell_type": "code",
   "execution_count": 6,
   "id": "d9b4ef90",
   "metadata": {},
   "outputs": [
    {
     "name": "stdout",
     "output_type": "stream",
     "text": [
      "Enter valid details\n"
     ]
    }
   ],
   "source": [
    "name = input()\n",
    "a = input()\n",
    "#Highlight\n",
    "b = f\"My name is {name} I am {a} years old\"\n",
    "if a == \"\" or name == \"\" :\n",
    "    print(\"Enter valid details\")\n",
    "else:\n",
    "    print(b)"
   ]
  },
  {
   "cell_type": "code",
   "execution_count": 12,
   "id": "5f81a2e9",
   "metadata": {},
   "outputs": [
    {
     "name": "stdout",
     "output_type": "stream",
     "text": [
      "My name is gaurav and I am 23 years old.\n"
     ]
    }
   ],
   "source": [
    "#if else\n",
    "\n",
    "name = input()\n",
    "age = input()\n",
    "if name ==\"\" or age == \"\":\n",
    "    print(\"Enter valid Details\")\n",
    "else:\n",
    "    print(f\"My name is {name} and I am {age} years old.\")"
   ]
  },
  {
   "cell_type": "code",
   "execution_count": 13,
   "id": "d7412872",
   "metadata": {},
   "outputs": [
    {
     "name": "stdout",
     "output_type": "stream",
     "text": [
      "(1,3)\n",
      "(5,6)\n",
      "(1,3)\n",
      "(4,2)\n",
      "Wrong input\n",
      "Thanks for playing\n"
     ]
    }
   ],
   "source": [
    "import random\n",
    "\n",
    "\n",
    "while True :\n",
    "    choice = input('Choose y/n ').lower()\n",
    "    if choice == 'y':\n",
    "        dice1 = random.randint(1,6)\n",
    "        dice2 = random.randint(1,6)\n",
    "        print(f'({dice1},{dice2})')\n",
    "    elif choice == 'n':\n",
    "        print(\"Thanks for playing\")\n",
    "        break\n",
    "    else:\n",
    "        print(\"Wrong input\")"
   ]
  },
  {
   "cell_type": "code",
   "execution_count": null,
   "id": "4f6e837d",
   "metadata": {},
   "outputs": [],
   "source": [
    "import random\n",
    "\n",
    "randomNo =  int(random.randint(1,100))\n",
    "print(randomNo)\n",
    "while True:\n",
    "    try:\n",
    "   \n",
    "        guess = int(input('Enter your guess between 1 to 100 '))\n",
    "        if guess < randomNo :\n",
    "            print(\"Too Low\")\n",
    "        elif guess > randomNo :\n",
    "            print(\"Too High\")\n",
    "        else:\n",
    "            print(\"HURRAYYYY!!\")\n",
    "            break\n",
    "    except ValueError:\n",
    "        print(\"Enter valid input\")"
   ]
  }
 ],
 "metadata": {
  "kernelspec": {
   "display_name": "Python 3",
   "language": "python",
   "name": "python3"
  },
  "language_info": {
   "codemirror_mode": {
    "name": "ipython",
    "version": 3
   },
   "file_extension": ".py",
   "mimetype": "text/x-python",
   "name": "python",
   "nbconvert_exporter": "python",
   "pygments_lexer": "ipython3",
   "version": "3.13.5"
  }
 },
 "nbformat": 4,
 "nbformat_minor": 5
}
